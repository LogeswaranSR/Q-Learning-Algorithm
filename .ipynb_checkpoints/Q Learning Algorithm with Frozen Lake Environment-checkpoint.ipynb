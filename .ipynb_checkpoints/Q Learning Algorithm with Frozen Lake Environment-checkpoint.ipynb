{
 "cells": [
  {
   "cell_type": "code",
   "execution_count": 1,
   "id": "189af4f1",
   "metadata": {},
   "outputs": [],
   "source": [
    "import numpy as np\n",
    "import gym\n",
    "import random\n",
    "import time\n",
    "from IPython.display import clear_output"
   ]
  },
  {
   "cell_type": "code",
   "execution_count": 3,
   "id": "29bd8118",
   "metadata": {},
   "outputs": [],
   "source": [
    "env = gym.make(\"FrozenLake-v1\", render_mode='rgb_array')"
   ]
  },
  {
   "cell_type": "code",
   "execution_count": 4,
   "id": "8fe6f7d8",
   "metadata": {},
   "outputs": [
    {
     "name": "stdout",
     "output_type": "stream",
     "text": [
      "[[0. 0. 0. 0.]\n",
      " [0. 0. 0. 0.]\n",
      " [0. 0. 0. 0.]\n",
      " [0. 0. 0. 0.]\n",
      " [0. 0. 0. 0.]\n",
      " [0. 0. 0. 0.]\n",
      " [0. 0. 0. 0.]\n",
      " [0. 0. 0. 0.]\n",
      " [0. 0. 0. 0.]\n",
      " [0. 0. 0. 0.]\n",
      " [0. 0. 0. 0.]\n",
      " [0. 0. 0. 0.]\n",
      " [0. 0. 0. 0.]\n",
      " [0. 0. 0. 0.]\n",
      " [0. 0. 0. 0.]\n",
      " [0. 0. 0. 0.]]\n"
     ]
    }
   ],
   "source": [
    "action_space_size = env.action_space.n\n",
    "state_space_size = env.observation_space.n\n",
    "\n",
    "q_table = np.zeros((state_space_size, action_space_size))\n",
    "print(q_table)"
   ]
  },
  {
   "cell_type": "code",
   "execution_count": 5,
   "id": "42d2d761",
   "metadata": {},
   "outputs": [],
   "source": [
    "num_episodes = 10000\n",
    "max_steps_per_episode = 100\n",
    "\n",
    "learning_rate, discount_rate = 0.1, 0.99\n",
    "\n",
    "exploration_rate = 1\n",
    "min_exploration_rate, max_exploration_rate = 0.01, 1\n",
    "exploration_decay_rate = 0.001"
   ]
  },
  {
   "cell_type": "code",
   "execution_count": 6,
   "id": "56c70682",
   "metadata": {},
   "outputs": [],
   "source": [
    "all_rewards = []"
   ]
  },
  {
   "cell_type": "markdown",
   "id": "e7922736",
   "metadata": {},
   "source": [
    "## Q Learning Algorithm"
   ]
  },
  {
   "cell_type": "code",
   "execution_count": 7,
   "id": "d1cba76b",
   "metadata": {},
   "outputs": [
    {
     "name": "stderr",
     "output_type": "stream",
     "text": [
      "C:\\Users\\Loges\\anaconda3\\Lib\\site-packages\\gym\\utils\\passive_env_checker.py:233: DeprecationWarning: `np.bool8` is a deprecated alias for `np.bool_`.  (Deprecated NumPy 1.24)\n",
      "  if not isinstance(terminated, (bool, np.bool8)):\n"
     ]
    }
   ],
   "source": [
    "for episode in range(num_episodes):\n",
    "    state, prob = env.reset()\n",
    "    \n",
    "    done = False\n",
    "    curr_reward = 0\n",
    "    \n",
    "    for step in range(max_steps_per_episode):\n",
    "        \n",
    "        threshold = random.uniform(0,1)\n",
    "        if threshold > exploration_rate:\n",
    "            action = np.argmax(q_table[state, :])\n",
    "        else:\n",
    "            action = env.action_space.sample()\n",
    "            \n",
    "        new_state, reward, done, truncated, info = env.step(action)\n",
    "        \n",
    "        q_table[state, action] = (1 - learning_rate) * q_table[state, action] + learning_rate * (reward + discount_rate * np.max(q_table[new_state, :]))\n",
    "        \n",
    "        state = new_state\n",
    "        curr_reward += reward\n",
    "        \n",
    "        if done == True:\n",
    "            break\n",
    "    \n",
    "    exploration_rate = min_exploration_rate + (max_exploration_rate - min_exploration_rate) * np.exp(-exploration_decay_rate*episode)\n",
    "    \n",
    "    all_rewards.append(curr_reward)"
   ]
  },
  {
   "cell_type": "code",
   "execution_count": 8,
   "id": "f7fdf089",
   "metadata": {},
   "outputs": [
    {
     "data": {
      "text/plain": [
       "array([[0.5283666 , 0.4792217 , 0.46683333, 0.47485813],\n",
       "       [0.30251125, 0.34896486, 0.2099458 , 0.44675594],\n",
       "       [0.37986138, 0.26628128, 0.27311175, 0.27303106],\n",
       "       [0.20006334, 0.03512592, 0.00614511, 0.0341832 ],\n",
       "       [0.54521122, 0.29365709, 0.33248363, 0.39763496],\n",
       "       [0.        , 0.        , 0.        , 0.        ],\n",
       "       [0.14050338, 0.08725987, 0.28428147, 0.1342554 ],\n",
       "       [0.        , 0.        , 0.        , 0.        ],\n",
       "       [0.50928395, 0.46810125, 0.4240631 , 0.57836859],\n",
       "       [0.42457479, 0.63270431, 0.53588603, 0.49747384],\n",
       "       [0.58394311, 0.36508134, 0.33216363, 0.32553876],\n",
       "       [0.        , 0.        , 0.        , 0.        ],\n",
       "       [0.        , 0.        , 0.        , 0.        ],\n",
       "       [0.44471299, 0.4040933 , 0.7328606 , 0.47356914],\n",
       "       [0.71658756, 0.82083544, 0.75659567, 0.75133243],\n",
       "       [0.        , 0.        , 0.        , 0.        ]])"
      ]
     },
     "execution_count": 8,
     "metadata": {},
     "output_type": "execute_result"
    }
   ],
   "source": [
    "q_table"
   ]
  },
  {
   "cell_type": "code",
   "execution_count": 9,
   "id": "38f8e57c",
   "metadata": {},
   "outputs": [
    {
     "name": "stdout",
     "output_type": "stream",
     "text": [
      "Average reward per 1000 episodes\n",
      "1000 : 0.027\n",
      "2000 : 0.182\n",
      "3000 : 0.43\n",
      "4000 : 0.57\n",
      "5000 : 0.632\n",
      "6000 : 0.653\n",
      "7000 : 0.66\n",
      "8000 : 0.676\n",
      "9000 : 0.705\n",
      "10000 : 0.668\n"
     ]
    }
   ],
   "source": [
    "count = 1\n",
    "rewards_per_1000_episodes = np.split(np.array(all_rewards), num_episodes/1000)\n",
    "\n",
    "print(\"Average reward per 1000 episodes\")\n",
    "for r in rewards_per_1000_episodes:\n",
    "    print(count*1000, ':', np.average(r))\n",
    "    count+=1"
   ]
  },
  {
   "cell_type": "code",
   "execution_count": 11,
   "id": "574597b9",
   "metadata": {},
   "outputs": [],
   "source": [
    "np.save(r\"E:\\Projects\\Q-Learning-Algorithm\\q_table\", q_table)"
   ]
  },
  {
   "cell_type": "markdown",
   "id": "a71cc766",
   "metadata": {},
   "source": [
    "## Gameplay"
   ]
  },
  {
   "cell_type": "code",
   "execution_count": 1,
   "id": "3cf728e9",
   "metadata": {},
   "outputs": [],
   "source": [
    "import gym\n",
    "import numpy as np\n",
    "import time\n",
    "from gym.wrappers import RecordVideo\n",
    "from IPython.display import clear_output"
   ]
  },
  {
   "cell_type": "code",
   "execution_count": 16,
   "id": "94d3068b",
   "metadata": {},
   "outputs": [],
   "source": [
    "q_table = np.load(r\"E:\\Projects\\Q-Learning-Algorithm\\q_table.npy\")\n",
    "max_steps_per_episode = 100\n",
    "record_mode = False"
   ]
  },
  {
   "cell_type": "code",
   "execution_count": 20,
   "id": "2aa17816",
   "metadata": {},
   "outputs": [],
   "source": [
    "gameplay_env = gym.make(\"FrozenLake-v1\", render_mode='rgb_array' if record_mode else 'human')\n",
    "if record_mode:\n",
    "    gameplay_env = RecordVideo(gameplay_env, video_folder=\"video\", name_prefix=\"q_learning_algorithm\")"
   ]
  },
  {
   "cell_type": "code",
   "execution_count": 21,
   "id": "eb159171",
   "metadata": {},
   "outputs": [
    {
     "name": "stdout",
     "output_type": "stream",
     "text": [
      "Goal Reached!!!\n"
     ]
    }
   ],
   "source": [
    "if record_mode:\n",
    "    gameplay_env.reset()\n",
    "    gameplay_env.start_video_recorder()\n",
    "\n",
    "for episode in range(3):\n",
    "    state, prob = gameplay_env.reset()\n",
    "    done=False\n",
    "    \n",
    "    print(\"Episode:\", episode+1, \"\\n\\n\\n\\n\\n\")\n",
    "    time.sleep(1)\n",
    "    \n",
    "    for step in range(max_steps_per_episode):\n",
    "        clear_output(wait=True)\n",
    "        if not record_mode:\n",
    "            gameplay_env.render()\n",
    "        time.sleep(0.3)\n",
    "        \n",
    "        action = np.argmax(q_table[state, :])\n",
    "        new_state, reward, done, truncated, info = gameplay_env.step(action)\n",
    "        \n",
    "        if done:\n",
    "            clear_output(wait=True)\n",
    "            if not record_mode:\n",
    "                gameplay_env.render()\n",
    "            \n",
    "            if reward == 1:\n",
    "                print(\"Goal Reached!!!\")\n",
    "                time.sleep(3)\n",
    "            else:\n",
    "                print(\"Game Over!!! Try Again!!!\")\n",
    "                time.sleep(3)\n",
    "            clear_output(wait=True)\n",
    "            break\n",
    "        \n",
    "        state=new_state\n",
    "gameplay_env.close()"
   ]
  },
  {
   "cell_type": "code",
   "execution_count": null,
   "id": "403ced9c",
   "metadata": {},
   "outputs": [],
   "source": []
  }
 ],
 "metadata": {
  "kernelspec": {
   "display_name": "Python 3 (ipykernel)",
   "language": "python",
   "name": "python3"
  },
  "language_info": {
   "codemirror_mode": {
    "name": "ipython",
    "version": 3
   },
   "file_extension": ".py",
   "mimetype": "text/x-python",
   "name": "python",
   "nbconvert_exporter": "python",
   "pygments_lexer": "ipython3",
   "version": "3.11.5"
  }
 },
 "nbformat": 4,
 "nbformat_minor": 5
}
