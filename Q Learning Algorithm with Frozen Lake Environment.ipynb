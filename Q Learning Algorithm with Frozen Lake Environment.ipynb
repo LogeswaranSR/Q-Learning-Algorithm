{
 "cells": [
  {
   "cell_type": "code",
   "execution_count": 1,
   "id": "189af4f1",
   "metadata": {},
   "outputs": [],
   "source": [
    "import numpy as np\n",
    "import gym\n",
    "import random\n",
    "import time\n",
    "from IPython.display import clear_output"
   ]
  },
  {
   "cell_type": "code",
   "execution_count": 7,
   "id": "29bd8118",
   "metadata": {},
   "outputs": [],
   "source": [
    "env = gym.make(\"FrozenLake-v1\")"
   ]
  },
  {
   "cell_type": "code",
   "execution_count": 8,
   "id": "8fe6f7d8",
   "metadata": {},
   "outputs": [
    {
     "name": "stdout",
     "output_type": "stream",
     "text": [
      "[[0. 0. 0. 0.]\n",
      " [0. 0. 0. 0.]\n",
      " [0. 0. 0. 0.]\n",
      " [0. 0. 0. 0.]\n",
      " [0. 0. 0. 0.]\n",
      " [0. 0. 0. 0.]\n",
      " [0. 0. 0. 0.]\n",
      " [0. 0. 0. 0.]\n",
      " [0. 0. 0. 0.]\n",
      " [0. 0. 0. 0.]\n",
      " [0. 0. 0. 0.]\n",
      " [0. 0. 0. 0.]\n",
      " [0. 0. 0. 0.]\n",
      " [0. 0. 0. 0.]\n",
      " [0. 0. 0. 0.]\n",
      " [0. 0. 0. 0.]]\n"
     ]
    }
   ],
   "source": [
    "action_space_size = env.action_space.n\n",
    "state_space_size = env.observation_space.n\n",
    "\n",
    "q_table = np.zeros((state_space_size, action_space_size))\n",
    "print(q_table)"
   ]
  },
  {
   "cell_type": "code",
   "execution_count": 4,
   "id": "42d2d761",
   "metadata": {},
   "outputs": [],
   "source": [
    "num_episodes = 10000\n",
    "max_steps_per_episode = 100\n",
    "\n",
    "learning_rate, discount_rate = 0.1, 0.99\n",
    "\n",
    "exploration_rate = 1\n",
    "min_exploration_rate, max_exploration_rate = 0.01, 1\n",
    "exploration_decay_rate = 0.001"
   ]
  },
  {
   "cell_type": "code",
   "execution_count": 9,
   "id": "56c70682",
   "metadata": {},
   "outputs": [],
   "source": [
    "all_rewards = []"
   ]
  },
  {
   "cell_type": "markdown",
   "id": "e7922736",
   "metadata": {},
   "source": [
    "## Q Learning Algorithm"
   ]
  },
  {
   "cell_type": "code",
   "execution_count": 10,
   "id": "d1cba76b",
   "metadata": {},
   "outputs": [],
   "source": [
    "for episode in range(num_episodes):\n",
    "    state, prob = env.reset()\n",
    "    \n",
    "    done = False\n",
    "    curr_reward = 0\n",
    "    \n",
    "    for step in range(max_steps_per_episode):\n",
    "        \n",
    "        threshold = random.uniform(0,1)\n",
    "        if threshold > exploration_rate:\n",
    "            action = np.argmax(q_table[state, :])\n",
    "        else:\n",
    "            action = env.action_space.sample()\n",
    "            \n",
    "        new_state, reward, done, truncated, info = env.step(action)\n",
    "        \n",
    "        q_table[state, action] = (1 - learning_rate) * q_table[state, action] + learning_rate * (reward + discount_rate * np.max(q_table[new_state, :]))\n",
    "        \n",
    "        state = new_state\n",
    "        curr_reward += reward\n",
    "        \n",
    "        if done == True:\n",
    "            break\n",
    "    \n",
    "    exploration_rate = min_exploration_rate + (max_exploration_rate - min_exploration_rate) * np.exp(-exploration_decay_rate*episode)\n",
    "    \n",
    "    all_rewards.append(curr_reward)"
   ]
  },
  {
   "cell_type": "code",
   "execution_count": 11,
   "id": "f7fdf089",
   "metadata": {},
   "outputs": [
    {
     "data": {
      "text/plain": [
       "array([[0.57232096, 0.50748187, 0.54253345, 0.53010271],\n",
       "       [0.2984488 , 0.2917733 , 0.31226968, 0.49767636],\n",
       "       [0.36985337, 0.24482927, 0.22980683, 0.29546035],\n",
       "       [0.08196227, 0.11344769, 0.04363203, 0.03158014],\n",
       "       [0.5925146 , 0.41488256, 0.39575776, 0.30219424],\n",
       "       [0.        , 0.        , 0.        , 0.        ],\n",
       "       [0.31145995, 0.15869079, 0.20555795, 0.12560396],\n",
       "       [0.        , 0.        , 0.        , 0.        ],\n",
       "       [0.3837431 , 0.49790036, 0.46201833, 0.63821651],\n",
       "       [0.37489187, 0.70789715, 0.40710794, 0.41304342],\n",
       "       [0.63858444, 0.4390846 , 0.42650814, 0.30697554],\n",
       "       [0.        , 0.        , 0.        , 0.        ],\n",
       "       [0.        , 0.        , 0.        , 0.        ],\n",
       "       [0.41602301, 0.59526482, 0.76612086, 0.56963176],\n",
       "       [0.71926259, 0.91505298, 0.75458546, 0.71618851],\n",
       "       [0.        , 0.        , 0.        , 0.        ]])"
      ]
     },
     "execution_count": 11,
     "metadata": {},
     "output_type": "execute_result"
    }
   ],
   "source": [
    "q_table"
   ]
  },
  {
   "cell_type": "code",
   "execution_count": 12,
   "id": "38f8e57c",
   "metadata": {},
   "outputs": [
    {
     "name": "stdout",
     "output_type": "stream",
     "text": [
      "Average reward per 1000 episodes\n",
      "1000 : 0.053\n",
      "2000 : 0.214\n",
      "3000 : 0.439\n",
      "4000 : 0.544\n",
      "5000 : 0.606\n",
      "6000 : 0.616\n",
      "7000 : 0.683\n",
      "8000 : 0.67\n",
      "9000 : 0.659\n",
      "10000 : 0.682\n"
     ]
    }
   ],
   "source": [
    "count = 1\n",
    "rewards_per_1000_episodes = np.split(np.array(all_rewards), num_episodes/1000)\n",
    "\n",
    "print(\"Average reward per 1000 episodes\")\n",
    "for r in rewards_per_1000_episodes:\n",
    "    print(count*1000, ':', np.average(r))\n",
    "    count+=1"
   ]
  },
  {
   "cell_type": "markdown",
   "id": "a71cc766",
   "metadata": {},
   "source": [
    "## Gameplay"
   ]
  },
  {
   "cell_type": "code",
   "execution_count": 17,
   "id": "eb159171",
   "metadata": {},
   "outputs": [
    {
     "name": "stdout",
     "output_type": "stream",
     "text": [
      "Goal Reached!!!\n"
     ]
    }
   ],
   "source": [
    "gameplay_env = gym.make(\"FrozenLake-v1\", render_mode='human')\n",
    "for episode in range(3):\n",
    "    state, prob = gameplay_env.reset()\n",
    "    done=False\n",
    "    \n",
    "    print(\"Episode:\", episode+1, \"\\n\\n\\n\\n\\n\")\n",
    "    time.sleep(1)\n",
    "    \n",
    "    for step in range(max_steps_per_episode):\n",
    "        clear_output(wait=True)\n",
    "        gameplay_env.render()\n",
    "        time.sleep(0.3)\n",
    "        \n",
    "        action = np.argmax(q_table[state, :])\n",
    "        new_state, reward, done, truncated, info = gameplay_env.step(action)\n",
    "        \n",
    "        if done:\n",
    "            clear_output(wait=True)\n",
    "            gameplay_env.render()\n",
    "            \n",
    "            if reward == 1:\n",
    "                print(\"Goal Reached!!!\")\n",
    "                time.sleep(3)\n",
    "            else:\n",
    "                print(\"Game Over!!! Try Again!!!\")\n",
    "                time.sleep(3)\n",
    "            clear_output(wait=True)\n",
    "            break\n",
    "        \n",
    "        state=new_state\n",
    "\n",
    "gameplay_env.close()"
   ]
  },
  {
   "cell_type": "code",
   "execution_count": 9,
   "id": "64829a10",
   "metadata": {},
   "outputs": [
    {
     "name": "stderr",
     "output_type": "stream",
     "text": [
      "C:\\Users\\Loges\\anaconda3\\Lib\\site-packages\\gym\\envs\\toy_text\\frozen_lake.py:271: UserWarning: \u001b[33mWARN: You are calling render method without specifying any render mode. You can specify the render_mode at initialization, e.g. gym(\"FrozenLake-v1\", render_mode=\"rgb_array\")\u001b[0m\n",
      "  logger.warn(\n"
     ]
    }
   ],
   "source": [
    "env.render()"
   ]
  },
  {
   "cell_type": "code",
   "execution_count": 32,
   "id": "0f47ded0",
   "metadata": {},
   "outputs": [],
   "source": []
  },
  {
   "cell_type": "code",
   "execution_count": null,
   "id": "e1779ff6",
   "metadata": {},
   "outputs": [],
   "source": []
  }
 ],
 "metadata": {
  "kernelspec": {
   "display_name": "Python 3 (ipykernel)",
   "language": "python",
   "name": "python3"
  },
  "language_info": {
   "codemirror_mode": {
    "name": "ipython",
    "version": 3
   },
   "file_extension": ".py",
   "mimetype": "text/x-python",
   "name": "python",
   "nbconvert_exporter": "python",
   "pygments_lexer": "ipython3",
   "version": "3.11.5"
  }
 },
 "nbformat": 4,
 "nbformat_minor": 5
}
